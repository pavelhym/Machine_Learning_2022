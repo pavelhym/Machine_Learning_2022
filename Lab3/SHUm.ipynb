{
 "cells": [
  {
   "cell_type": "code",
   "execution_count": 7,
   "metadata": {},
   "outputs": [],
   "source": [
    "'''Packages'''\n",
    "import numpy as np\n",
    "import matplotlib.pyplot as plt\n",
    "import scipy\n",
    "%matplotlib inline\n",
    "import pandas as pd\n",
    "from sklearn.model_selection import train_test_split\n",
    "from sklearn.metrics import precision_score, recall_score, accuracy_score\n",
    "import random\n",
    "import copy\n"
   ]
  },
  {
   "cell_type": "code",
   "execution_count": 5,
   "metadata": {},
   "outputs": [],
   "source": [
    "'''Prepare data'''\n",
    "\n",
    "bioresponce = pd.read_csv('F:/Documents/ITMO/1курс/Machine_Learning_2022/Lab1/Task_1/bioresponse.csv', header=0, sep=',')\n",
    "\n",
    "train_data, test_data,  = train_test_split(bioresponce, test_size = 0.25, random_state = 1)\n",
    "X_train =  train_data.iloc[:,1:] \n",
    "Y_train =  train_data.iloc[:,0]\n",
    "X_test =    test_data.iloc[:,1:]                                                                       \n",
    "Y_test =  test_data.iloc[:,0]\n",
    "\n",
    "#Reshape it to make it applicable for the code from the seminar\n",
    "Y_train = np.array(Y_train)\n",
    "Y_train.shape\n",
    "Y_train = Y_train.reshape(1,len(Y_train))\n",
    "\n",
    "Y_test = np.array(Y_test)\n",
    "Y_test.shape\n",
    "Y_test = Y_test.reshape(1,len(Y_test))\n",
    "\n",
    "X_train = X_train.T\n",
    "X_test = X_test.T"
   ]
  },
  {
   "cell_type": "code",
   "execution_count": 4,
   "metadata": {},
   "outputs": [],
   "source": [
    "'''Main functions'''\n",
    "# sigmoid\n",
    "def sigmoid(z):\n",
    "    #The bounds are added in order to overcome the problem when sigmoid returns 1\n",
    "    s = 1./(1.+np.exp(-z))\n",
    "    s = np.minimum(s, 0.9999)  # Set upper bound\n",
    "    s = np.maximum(s, 0.0001)  # Set lower bound\n",
    "    return s\n",
    "\n",
    "def initialize_with_zeros(dim):\n",
    "    w = np.zeros((dim,1))\n",
    "    b = 0.\n",
    "    return w, b\n",
    "\n",
    "dim = X_train.shape[0]\n",
    "w, b = initialize_with_zeros(dim)\n",
    "\n",
    "\n",
    "# propagate\n",
    "def propagate(w, b, X, Y):\n",
    "\n",
    "    m = X.shape[1]\n",
    "    #print('number of objects = ',len(X))\n",
    "    \n",
    "    # FORWARD PROPAGATION (FROM X TO COST)\n",
    "    A = sigmoid(np.dot(w.T,X)+b)                              # compute activation\n",
    "    cost = -(1./m)*np.sum(Y*np.log(A)+(1-Y)*np.log(1-A),axis=1)   # compute cost\n",
    "    \n",
    "    # BACKWARD PROPAGATION (TO FIND GRAD)\n",
    "    dw = (1./m)*np.dot(X,(A-Y).T)\n",
    "    db = (1./m)*np.sum(A-Y,axis=1)\n",
    "\n",
    "    grads = {\"dw\": dw,\n",
    "             \"db\": db}\n",
    "    \n",
    "    return grads, cost\n",
    "\n",
    "\n",
    "\n",
    "def optimize(w, b, X, Y, num_iterations, learning_rate, print_cost = False):\n",
    "\n",
    "    costs = []\n",
    "    \n",
    "    for i in range(num_iterations):\n",
    "                \n",
    "        # Cost and gradient calculation \n",
    "        grads, cost = propagate(w,b,X,Y)\n",
    "        \n",
    "        # Retrieve derivatives from grads\n",
    "        dw = grads[\"dw\"]\n",
    "        db = grads[\"db\"]\n",
    "        \n",
    "        # update rule\n",
    "        w -=learning_rate*dw\n",
    "        b -=learning_rate*db\n",
    "        \n",
    "        # Record the costs\n",
    "        costs.append(cost)\n",
    "        \n",
    "        # Print the cost every 100 training iterations\n",
    "        if print_cost and i % 100 == 0:\n",
    "            print (\"Cost after iteration %i: %f\" %(i, cost))\n",
    "    \n",
    "    params = {\"w\": w,\n",
    "              \"b\": b}\n",
    "    \n",
    "    grads = {\"dw\": dw,\n",
    "             \"db\": db}\n",
    "    \n",
    "    return params, grads, costs\n",
    "\n",
    "# predict\n",
    "def predict(w, b, X):\n",
    "    m = X.shape[1]\n",
    "    Y_prediction = np.zeros((1,m))\n",
    "    w = w.reshape(X.shape[0], 1)\n",
    "    \n",
    "    # Compute vector \"A\" predicting the probabilities \n",
    "    A = sigmoid(np.dot(w.T,X)+b)\n",
    "    \n",
    "    for i in range(A.shape[1]):\n",
    "        \n",
    "        # Convert probabilities A[0,i] to actual predictions p[0,i]\n",
    "        if (A[0,i]<=0.5):\n",
    "            Y_prediction[0][i]=0\n",
    "        else:\n",
    "            Y_prediction[0][i]=1\n",
    "    \n",
    "    return Y_prediction\n",
    "\n",
    "# model\n",
    "#I added the optional optimizer\n",
    "def model(X_train, Y_train, X_test, Y_test, optimizer, num_iterations = 2000, learning_rate = 0.5, print_cost = False):\n",
    "\n",
    "    \n",
    "    # initialize parameters with zeros \n",
    "    w, b = initialize_with_zeros(X_train.shape[0])\n",
    "\n",
    "    # Gradient descent\n",
    "    parameters, grads, costs = optimizer(w, b, X_train, Y_train, num_iterations, learning_rate, print_cost)\n",
    "    \n",
    "    # Retrieve parameters w and b from dictionary \"parameters\"\n",
    "    w = parameters[\"w\"]\n",
    "    b = parameters[\"b\"]\n",
    "    \n",
    "    # Predict test/train set examples\n",
    "    Y_prediction_test = predict(w, b, X_test)\n",
    "    Y_prediction_train = predict(w, b, X_train)\n",
    "\n",
    "    # Print train/test Errors\n",
    "    print(\"train accuracy: {} %\".format(100 - np.mean(np.abs(Y_prediction_train - Y_train)) * 100))\n",
    "    print(\"test accuracy: {} %\".format(100 - np.mean(np.abs(Y_prediction_test - Y_test)) * 100))\n",
    "\n",
    "    d = {\"costs\": costs,\n",
    "         \"Y_prediction_test\": Y_prediction_test, \n",
    "         \"Y_prediction_train\" : Y_prediction_train, \n",
    "         \"w\" : w, \n",
    "         \"b\" : b,\n",
    "         \"learning_rate\" : learning_rate,\n",
    "         \"num_iterations\": num_iterations}\n",
    "    \n",
    "    return d"
   ]
  },
  {
   "cell_type": "code",
   "execution_count": 16,
   "metadata": {},
   "outputs": [
    {
     "name": "stdout",
     "output_type": "stream",
     "text": [
      "train accuracy: 82.29648062566655 %\n",
      "test accuracy: 77.61194029850746 %\n"
     ]
    }
   ],
   "source": [
    "'''1st point - applying logistic regression'''\n",
    "result1 = model(X_train, Y_train, X_test, Y_test,optimizer = optimize,num_iterations = 2000, learning_rate = 0.05, print_cost = False)\n",
    "\n"
   ]
  },
  {
   "cell_type": "code",
   "execution_count": 9,
   "metadata": {},
   "outputs": [],
   "source": [
    "'''Stochastic Gradient optimizer'''\n",
    "def optimize_SGD(w, b, X, Y, num_iterations, learning_rate, print_cost = False):\n",
    "    costs = []\n",
    "    for i in range(num_iterations):\n",
    "                \n",
    "        # Cost and gradient calculation \n",
    "        # Add random (random choice of number of selected observations and random subset of them)\n",
    "        num = random.randint(200,len(X.T))\n",
    "\n",
    "        df_before = copy.deepcopy(X)\n",
    "        df_before.loc[X.shape[0]] = Y.tolist()[0]\n",
    "\n",
    "        df_after = df_before.sample(n=num,axis='columns')\n",
    "        X_sub = df_after[0:len(df_after)-1]\n",
    "        Y_sub = df_after.iloc[-1].tolist()\n",
    "        Y_sub = np.array(Y_sub).reshape(1,len(Y_sub))\n",
    "\n",
    "        grads, cost = propagate(w,b,X_sub,Y_sub)\n",
    "        \n",
    "        # Retrieve derivatives from grads\n",
    "        dw = grads[\"dw\"]\n",
    "        db = grads[\"db\"]\n",
    "        \n",
    "        # update rule\n",
    "        w -=learning_rate*dw\n",
    "        b -=learning_rate*db\n",
    "        \n",
    "        # Record the costs\n",
    "        costs.append(cost)\n",
    "            \n",
    "    params = {\"w\": w,\n",
    "              \"b\": b}\n",
    "    \n",
    "    grads = {\"dw\": dw,\n",
    "             \"db\": db}\n",
    "    \n",
    "    return params, grads, costs"
   ]
  },
  {
   "cell_type": "code",
   "execution_count": 10,
   "metadata": {},
   "outputs": [
    {
     "name": "stdout",
     "output_type": "stream",
     "text": [
      "train accuracy: 82.36757909704941 %\n",
      "test accuracy: 77.39872068230277 %\n"
     ]
    }
   ],
   "source": [
    "'''2nd point - applying logistic regression with stochastic gradient optimizer'''\n",
    "\n",
    "result2 = model(X_train, Y_train, X_test, Y_test,optimizer = optimize_SGD, num_iterations = 2000, learning_rate = 0.05, print_cost = False)\n"
   ]
  },
  {
   "cell_type": "code",
   "execution_count": 20,
   "metadata": {},
   "outputs": [
    {
     "name": "stdout",
     "output_type": "stream",
     "text": [
      "train accuracy: 82.29648062566655 %\n",
      "test accuracy: 77.61194029850746 %\n",
      "train accuracy: 84.18059011731248 %\n",
      "test accuracy: 76.75906183368869 %\n",
      "train accuracy: 85.56701030927834 %\n",
      "test accuracy: 76.11940298507463 %\n",
      "train accuracy: 82.61642374688944 %\n",
      "test accuracy: 73.98720682302772 %\n",
      "train accuracy: 80.48346960540349 %\n",
      "test accuracy: 71.53518123667376 %\n"
     ]
    },
    {
     "data": {
      "image/png": "[encoded data removed]",
      "text/plain": [
       "<Figure size 432x288 with 1 Axes>"
      ]
     },
     "metadata": {
      "needs_background": "light"
     },
     "output_type": "display_data"
    },
    {
     "name": "stdout",
     "output_type": "stream",
     "text": [
      "0.05\n",
      "train accuracy: 82.43867756843228 %\n",
      "test accuracy: 77.50533049040511 %\n",
      "0.1\n",
      "train accuracy: 84.39388553146108 %\n",
      "test accuracy: 77.29211087420043 %\n",
      "0.2\n",
      "train accuracy: 85.24706718805545 %\n",
      "test accuracy: 76.22601279317698 %\n",
      "0.35\n",
      "train accuracy: 84.25168858869534 %\n",
      "test accuracy: 74.30703624733476 %\n",
      "0.5\n",
      "train accuracy: 84.82047635975826 %\n",
      "test accuracy: 74.94669509594883 %\n"
     ]
    },
    {
     "data": {
      "image/png": "[encoded data removed]",
      "text/plain": [
       "<Figure size 432x288 with 1 Axes>"
      ]
     },
     "metadata": {
      "needs_background": "light"
     },
     "output_type": "display_data"
    }
   ],
   "source": [
    "'''3rd point - learning curve plot'''\n",
    "costs = pd.DataFrame()\n",
    "\n",
    "for l_rate in [0.05,0.1,0.2,0.35,0.5]:\n",
    "    costs[str(l_rate)] = model(X_train, Y_train, X_test, Y_test,optimizer = optimize, num_iterations = 2000, learning_rate = l_rate, print_cost = False)['costs']\n",
    "\n",
    "for l_rate in [0.05,0.1,0.2,0.35,0.5]:\n",
    "    plt.plot(costs[str(l_rate)], label = \"learning rate = \" + str(l_rate))\n",
    "plt.legend()\n",
    "plt.xlabel(\"iteration\")\n",
    "plt.ylabel(\"cost\")\n",
    "plt.title(\"Gradient descent optimizer\")\n",
    "plt.show()\n",
    "\n",
    "\n",
    "\n",
    "costs_SGD = pd.DataFrame()\n",
    "\n",
    "for l_rate in [0.05,0.1,0.2,0.35,0.5]:\n",
    "    print(str(l_rate))\n",
    "    costs_SGD[str(l_rate)] = model(X_train, Y_train, X_test, Y_test,optimizer = optimize_SGD, num_iterations = 2000, learning_rate = l_rate, print_cost = False)['costs']\n",
    "\n",
    "for l_rate in [0.05,0.1,0.2,0.35,0.5]:\n",
    "    plt.plot(costs_SGD[str(l_rate)], label = \"learning rate = \" + str(l_rate))\n",
    "plt.legend()\n",
    "plt.xlabel(\"iteration\")\n",
    "plt.ylabel(\"cost\")\n",
    "plt.title(\"Stochastic Gradient descent optimizer\")\n",
    "plt.show()"
   ]
  },
  {
   "cell_type": "code",
   "execution_count": 11,
   "metadata": {},
   "outputs": [],
   "source": [
    "'''4th point - ADAM optimizer'''\n",
    "\n",
    "\n",
    "def optimize_ADAM(w, b, X, Y, num_iterations, learning_rate, print_cost = False,eps = 0.0001,B_1 = 0.9, B_2 = 0.999):\n",
    "    \n",
    "    costs = []\n",
    "    S_t = np.array([0]*len(w)).reshape(len(w),1)\n",
    "    S_t_b = 0\n",
    "    V_t = np.array([0]*len(w)).reshape(len(w),1)\n",
    "    V_t_b = 0\n",
    "    for i in range(num_iterations):\n",
    "\n",
    "        grads, cost = propagate(w,b,X,Y)\n",
    "        \n",
    "        \n",
    "        # Retrieve derivatives from grads\n",
    "        dw = grads[\"dw\"]\n",
    "        db = grads[\"db\"]\n",
    "\n",
    "\n",
    "        V_t1 = B_1*V_t + (1-B_1)*(dw)\n",
    "        S_t1 = B_2*S_t + (1-B_2)*(dw**2)\n",
    "\n",
    "        V_t_b1 = B_1*V_t_b + (1-B_1)*(db)\n",
    "        S_t_b1 = B_2*S_t_b + (1-B_2)*(db**2)\n",
    "        V_t = V_t1\n",
    "        S_t = S_t1\n",
    "        S_t_b = S_t_b1\n",
    "        V_t_b = V_t_b1\n",
    "\n",
    "        # update rule\n",
    "        w -=learning_rate*V_t1/(S_t1**(1/2) + eps)\n",
    "        b -=learning_rate*V_t_b1/(np.sqrt(S_t_b1) + eps)\n",
    "        \n",
    "        # Record the costs\n",
    "        costs.append(cost)\n",
    "        \n",
    "\n",
    "    \n",
    "    params = {\"w\": w,\n",
    "              \"b\": b}\n",
    "    \n",
    "    grads = {\"dw\": dw,\n",
    "             \"db\": db}\n",
    "    \n",
    "    return params, grads, costs"
   ]
  },
  {
   "cell_type": "code",
   "execution_count": 19,
   "metadata": {},
   "outputs": [
    {
     "name": "stdout",
     "output_type": "stream",
     "text": [
      "train accuracy: 95.84073942410238 %\n",
      "test accuracy: 73.2409381663113 %\n"
     ]
    }
   ],
   "source": [
    "#result\n",
    "result3 = model(X_train, Y_train, X_test, Y_test,optimizer = optimize_ADAM, num_iterations = 2000, learning_rate = 0.05, print_cost = False)"
   ]
  },
  {
   "cell_type": "code",
   "execution_count": 18,
   "metadata": {},
   "outputs": [
    {
     "name": "stdout",
     "output_type": "stream",
     "text": [
      "For all models learning rate = 0.05, 2000 iterations\n",
      "GD test accuracy: 77.61194029850746 %\n",
      "SGD test accuracy: 77.39872068230277 %\n",
      "ADAM test accuracy: 73.2409381663113 %\n"
     ]
    }
   ],
   "source": [
    "print(\"For all models learning rate = 0.05, 2000 iterations\")\n",
    "print(\"GD test accuracy: {} %\".format(100 - np.mean(np.abs(result1[\"Y_prediction_test\"] - Y_test)) * 100))\n",
    "print(\"SGD test accuracy: {} %\".format(100 - np.mean(np.abs(result2[\"Y_prediction_test\"] - Y_test)) * 100))\n",
    "print(\"ADAM test accuracy: {} %\".format(100 - np.mean(np.abs(result3[\"Y_prediction_test\"] - Y_test)) * 100))"
   ]
  }
 ],
 "metadata": {
  "interpreter": {
   "hash": "3d2c0440318bba635acbafab6314344df09a94d23aa8ec158f8701b2ab460d44"
  },
  "kernelspec": {
   "display_name": "Python 3.9.0 64-bit",
   "language": "python",
   "name": "python3"
  },
  "language_info": {
   "codemirror_mode": {
    "name": "ipython",
    "version": 3
   },
   "file_extension": ".py",
   "mimetype": "text/x-python",
   "name": "python",
   "nbconvert_exporter": "python",
   "pygments_lexer": "ipython3",
   "version": "3.8.5"
  },
  "orig_nbformat": 4
 },
 "nbformat": 4,
 "nbformat_minor": 2
}
